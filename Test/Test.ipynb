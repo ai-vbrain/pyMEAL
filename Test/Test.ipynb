{
 "cells": [
  {
   "cell_type": "markdown",
   "id": "1d11f4fa-136f-4323-b426-7cca10c5ec0f",
   "metadata": {},
   "source": [
    "#### Laod Packages"
   ]
  },
  {
   "cell_type": "code",
   "execution_count": 26,
   "id": "ad059e1c-205d-4c10-b85e-f40c80436221",
   "metadata": {},
   "outputs": [
    {
     "name": "stdout",
     "output_type": "stream",
     "text": [
      "Checking file existence at: ./saved_models/builder1_mode1l1abW512_1_11211z1p1rt_.h5\n",
      "File exists: True\n"
     ]
    },
    {
     "data": {
      "text/plain": [
       "<module 'test_fusion_layer' from 'C:\\\\Users\\\\user\\\\Desktop\\\\pyMEAL\\\\pyMEAL\\\\Test\\\\test_fusion_layer.py'>"
      ]
     },
     "execution_count": 26,
     "metadata": {},
     "output_type": "execute_result"
    }
   ],
   "source": [
    "# load necessary package\n",
    "import unittest\n",
    "import importlib\n",
    "import os\n",
    "# import Testmodules as tst\n",
    "import test_utils as tsls\n",
    "import test_basics as tbcs  #test_builder_block  test_encoder_concatenation\n",
    "import test_builder_block as tbd\n",
    "import test_encoder_concatenation as tcc\n",
    "import test_fusion_layer as tfl\n",
    "import test_traditional_augmentation as tta\n",
    "import test_without_augmentation as tna\n",
    "importlib.reload(tsls)\n",
    "importlib.reload(tbcs)\n",
    "importlib.reload(tbd)\n",
    "importlib.reload(tcc)\n",
    "importlib.reload(tfl)\n",
    "# from basics_test import TestBasicsModule, TestMultistreamIntegration, TestUtilsUnit, TestplottingIntegration # TestplottingIntegration\n"
   ]
  },
  {
   "cell_type": "markdown",
   "id": "353466a4-414b-4513-9e6d-7e7a37c12fb6",
   "metadata": {},
   "source": [
    "#### Unit and integration test for basics.py and plotting.py"
   ]
  },
  {
   "cell_type": "code",
   "execution_count": 49,
   "id": "8a5fc5db-1b04-44ff-93f9-b3dae019f8a1",
   "metadata": {},
   "outputs": [
    {
     "name": "stderr",
     "output_type": "stream",
     "text": [
      "C:\\Users\\user\\anaconda3\\envs\\tf_2_9_env\\lib\\site-packages\\skimage\\metrics\\simple_metrics.py:168: RuntimeWarning: divide by zero encountered in double_scalars\n",
      "  return 10 * np.log10((data_range**2) / err)\n",
      "C:\\Users\\user\\Desktop\\pyMEAL\\pyMEAL\\pyMEAL\\basics.py:335: UserWarning: FigureCanvasAgg is non-interactive, and thus cannot be shown\n",
      "  plt.show()\n"
     ]
    },
    {
     "name": "stdout",
     "output_type": "stream",
     "text": [
      "Test report saved to test_reports\\test_basics_py.txt\n"
     ]
    },
    {
     "name": "stderr",
     "output_type": "stream",
     "text": [
      "C:\\Users\\user\\Desktop\\pyMEAL\\pyMEAL\\pyMEAL\\basics.py:335: UserWarning: FigureCanvasAgg is non-interactive, and thus cannot be shown\n",
      "  plt.show()\n"
     ]
    },
    {
     "name": "stdout",
     "output_type": "stream",
     "text": [
      "Test report saved to test_reports\\Testmultistream.txt\n",
      "Test report saved to test_reports\\TestUnit.txt\n",
      "Test report saved to test_reports\\TestBD.txt\n",
      "Test report saved to test_reports\\TestModelBD.txt\n",
      "Test report saved to test_reports\\TestStructCC.txt\n",
      "Test report saved to test_reports\\TestMultistreamCC.txt\n",
      "Test report saved to test_reports\\Testbuild_multistream_modelCC.txt\n",
      "Test report saved to test_reports\\TestCreateDatasetFL.txt\n",
      "Test report saved to test_reports\\TestFeatureFusionLayerFL.txt\n",
      "Test report saved to test_reports\\TestBuildMultistreamModelFL.txt\n",
      "Test report saved to test_reports\\TestAugmentationLayersTA.txt\n",
      "Test report saved to test_reports\\TestRefinedDiffusionModelTA.txt\n",
      "Test report saved to test_reports\\TestDatasetTA.txt\n",
      "Test report saved to test_reports\\TestEncoderBlockNA.txt\n",
      "Test report saved to test_reports\\TestRefinedDiffusionModelNA.txt\n",
      "Test report saved to test_reports\\TestIntegrationEncoderDecoderNA.txt\n"
     ]
    }
   ],
   "source": [
    "# Ensure the \"test_reports\" folder exists\n",
    "os.makedirs(\"test_reports\", exist_ok=True)\n",
    "\n",
    "# Define test report paths\n",
    "report_paths = {\n",
    "    \"test_basics_py.txt\": tbcs.TestBasicsModule,\n",
    "    \"Testmultistream.txt\": tbcs.TestMultistreamIntegration,\n",
    "    \"TestUnit.txt\": tsls.TestUtilsUnit, #\n",
    "    \"TestBD.txt\": tbd.TestAugmentationLayersBD,\n",
    "    \"TestBD.txt\": tbd.TestAugmentationLayersBD,\n",
    "    \"TestModelBD.txt\": tbd.TestModelArchitecturesBD,\n",
    "    \"TestStructCC.txt\": tcc.TestDatasetStructureCC,\n",
    "    \"TestMultistreamCC.txt\": tcc.TestMultistreamModelCC,\n",
    "    \"Testbuild_multistream_modelCC.txt\": tst.Testbuild_multistream_modelCC,\n",
    "    \"TestCreateDatasetFL.txt\": tfl.TestCreateDatasetFL,\n",
    "    \"TestFeatureFusionLayerFL.txt\": tfl.TestFeatureFusionLayerFL,\n",
    "    \"TestBuildMultistreamModelFL.txt\": tfl.TestBuildMultistreamModelFL,\n",
    "    \"TestAugmentationLayersTA.txt\": tta.TestAugmentationLayersTA,\n",
    "    \"TestRefinedDiffusionModelTA.txt\": tta.TestRefinedDiffusionModelTA,\n",
    "    \"TestDatasetTA.txt\": tta.TestDatasetPipelineTA, #\n",
    "    \"TestEncoderBlockNA.txt\": tna.TestEncoderBlockNA, #\n",
    "    \"TestRefinedDiffusionModelNA.txt\": tna.TestRefinedDiffusionModelNA, #\n",
    "    \"TestIntegrationEncoderDecoderNA.txt\": tna.TestIntegrationEncoderDecoderNA, #\n",
    "} \n",
    "\n",
    "# Run and save reports individually\n",
    "for filename, test_class in report_paths.items():\n",
    "    path = os.path.join(\"test_reports\", filename)\n",
    "    with open(path, \"w\") as report_file:\n",
    "        suite = unittest.TestLoader().loadTestsFromTestCase(test_class)\n",
    "        runner = unittest.TextTestRunner(stream=report_file, verbosity=2)\n",
    "        runner.run(suite)\n",
    "    print(f\"Test report saved to {path}\")\n",
    "\n"
   ]
  },
  {
   "cell_type": "code",
   "execution_count": 44,
   "id": "40c14762-4f40-4189-ae0e-d7d23bf38e75",
   "metadata": {},
   "outputs": [],
   "source": []
  }
 ],
 "metadata": {
  "kernelspec": {
   "display_name": "Python 3 (ipykernel)",
   "language": "python",
   "name": "python3"
  },
  "language_info": {
   "codemirror_mode": {
    "name": "ipython",
    "version": 3
   },
   "file_extension": ".py",
   "mimetype": "text/x-python",
   "name": "python",
   "nbconvert_exporter": "python",
   "pygments_lexer": "ipython3",
   "version": "3.9.20"
  }
 },
 "nbformat": 4,
 "nbformat_minor": 5
}
